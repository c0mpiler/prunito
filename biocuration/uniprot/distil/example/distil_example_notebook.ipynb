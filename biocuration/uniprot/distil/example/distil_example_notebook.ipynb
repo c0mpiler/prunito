{
 "cells": [
  {
   "cell_type": "markdown",
   "metadata": {},
   "source": [
    "# An iPython interface to distil.py\n",
    "\n",
    "This provides lightweight GUI controls for the distil.py script parameters. \n",
    "To use it, import and execute  the function `start_interface` from distil.py. \n",
    "\n",
    "*  Query: string; query for UniprotKB\n",
    "*  Search reviewed: boolean; search Swiss-Prot yes/no, default: yes\n",
    "*  Ratio: int; set the cut-off ratio for reported annotations in %, default: 90%\n",
    "\n",
    "Several interfaces can be started next to one another. Searches are cached and the cache is shared by all instances so\n",
    "that results will only be retrieved once."
   ]
  },
  {
   "cell_type": "code",
   "execution_count": 1,
   "metadata": {
    "collapsed": true
   },
   "outputs": [],
   "source": [
    "%load_ext autoreload\n",
    "%autoreload 2"
   ]
  },
  {
   "cell_type": "code",
   "execution_count": 2,
   "metadata": {
    "collapsed": false
   },
   "outputs": [],
   "source": [
    "from distil.distil import start_interface, SPAnalysis"
   ]
  },
  {
   "cell_type": "code",
   "execution_count": 4,
   "metadata": {
    "collapsed": false
   },
   "outputs": [
    {
     "name": "stdout",
     "output_type": "stream",
     "text": [
      "\n",
      "43 entries were analyzed\n",
      "\n"
     ]
    },
    {
     "data": {
      "text/html": [
       "\n",
       "<head>\n",
       "    <title>Test</title>\n",
       "</head>\n",
       "<body>\n",
       "    <table>\n",
       "    \n",
       "        <tr>\n",
       "        <td>comment</td>\n",
       "        <td>CATALYTIC ACTIVITY </td>\n",
       "        <td>7,8-dihydroneopterin = 6-hydroxymethyl-7,8- dihydropterin + glycolaldehyde</td>\n",
       "        <td>43</td>\n",
       "        </tr>\n",
       "    \n",
       "        <tr>\n",
       "        <td>comment</td>\n",
       "        <td>PATHWAY </td>\n",
       "        <td>Cofactor biosynthesis; tetrahydrofolate biosynthesis; 2- amino-4-hydroxy-6-hydroxymethyl-7,8-dihydropteridine diphosphate from 7,8-dihydroneopterin triphosphate: step 3/4</td>\n",
       "        <td>40</td>\n",
       "        </tr>\n",
       "    \n",
       "        <tr>\n",
       "        <td>keyword</td>\n",
       "        <td>None </td>\n",
       "        <td><a href=\"http://www.uniprot.org/keywords/?query=Folate biosynthesis\">Folate biosynthesis<a></td>\n",
       "        <td>40</td>\n",
       "        </tr>\n",
       "    \n",
       "        <tr>\n",
       "        <td>keyword</td>\n",
       "        <td>None </td>\n",
       "        <td><a href=\"http://www.uniprot.org/keywords/?query=Lyase\">Lyase<a></td>\n",
       "        <td>43</td>\n",
       "        </tr>\n",
       "    \n",
       "        <tr>\n",
       "        <td>name</td>\n",
       "        <td>AltName </td>\n",
       "        <td>7,8-dihydroneopterin</td>\n",
       "        <td>63</td>\n",
       "        </tr>\n",
       "    \n",
       "        <tr>\n",
       "        <td>name</td>\n",
       "        <td>EC </td>\n",
       "        <td>4.1.2.25</td>\n",
       "        <td>43</td>\n",
       "        </tr>\n",
       "    \n",
       "        <tr>\n",
       "        <td>name</td>\n",
       "        <td>RecName </td>\n",
       "        <td>aldolase</td>\n",
       "        <td>60</td>\n",
       "        </tr>\n",
       "    \n",
       "        <tr>\n",
       "        <td>name</td>\n",
       "        <td>RecName </td>\n",
       "        <td>dihydroneopterin</td>\n",
       "        <td>42</td>\n",
       "        </tr>\n",
       "    \n",
       "        <tr>\n",
       "        <td>xref</td>\n",
       "        <td>GO </td>\n",
       "        <td><a href=\"http://www.ebi.ac.uk/QuickGO/GTerm?id=GO:0004150\">GO:0004150<a></td>\n",
       "        <td>43</td>\n",
       "        </tr>\n",
       "    \n",
       "        <tr>\n",
       "        <td>xref</td>\n",
       "        <td>GO </td>\n",
       "        <td><a href=\"http://www.ebi.ac.uk/QuickGO/GTerm?id=GO:0046654\">GO:0046654<a></td>\n",
       "        <td>40</td>\n",
       "        </tr>\n",
       "    \n",
       "        <tr>\n",
       "        <td>xref</td>\n",
       "        <td>GO </td>\n",
       "        <td><a href=\"http://www.ebi.ac.uk/QuickGO/GTerm?id=GO:0046656\">GO:0046656<a></td>\n",
       "        <td>40</td>\n",
       "        </tr>\n",
       "    \n",
       "        <tr>\n",
       "        <td>xref</td>\n",
       "        <td>InterPro </td>\n",
       "        <td><a href=\"https://www.ebi.ac.uk/interpro/search?q=IPR006157\">IPR006157<a></td>\n",
       "        <td>40</td>\n",
       "        </tr>\n",
       "    \n",
       "        <tr>\n",
       "        <td>xref</td>\n",
       "        <td>Pfam </td>\n",
       "        <td><a href=\"https://www.ebi.ac.uk/interpro/search?q=PF02152\">PF02152<a></td>\n",
       "        <td>40</td>\n",
       "        </tr>\n",
       "    \n",
       "        <tr>\n",
       "        <td>xref</td>\n",
       "        <td>SMART </td>\n",
       "        <td><a href=\"https://www.ebi.ac.uk/interpro/search?q=SM00905\">SM00905<a></td>\n",
       "        <td>40</td>\n",
       "        </tr>\n",
       "    \n",
       "        <tr>\n",
       "        <td>xref</td>\n",
       "        <td>TIGRFAMs </td>\n",
       "        <td><a href=\"https://www.ebi.ac.uk/interpro/search?q=TIGR00526\">TIGR00526<a></td>\n",
       "        <td>39</td>\n",
       "        </tr>\n",
       "    \n",
       "    </table>\n",
       "</body>"
      ],
      "text/plain": [
       "<IPython.core.display.HTML object>"
      ]
     },
     "metadata": {},
     "output_type": "display_data"
    }
   ],
   "source": [
    "start_interface()"
   ]
  },
  {
   "cell_type": "markdown",
   "metadata": {},
   "source": [
    "Once an analysis has been run a table containing results is presented (shown above). In order to explore the underlying data set in more detail, create an instance of class `SPAnalysis` like shown below:"
   ]
  },
  {
   "cell_type": "code",
   "execution_count": 5,
   "metadata": {
    "collapsed": false
   },
   "outputs": [],
   "source": [
    "b = SPAnalysis()"
   ]
  },
  {
   "cell_type": "markdown",
   "metadata": {},
   "source": [
    "`b` has an internal cache of all the previously run queries and their results. Retrieve a particular analysis like so:"
   ]
  },
  {
   "cell_type": "code",
   "execution_count": 6,
   "metadata": {
    "collapsed": false
   },
   "outputs": [],
   "source": [
    "c = b.cache[('name:bacteriocin', True)]"
   ]
  },
  {
   "cell_type": "markdown",
   "metadata": {},
   "source": [
    "`c` now represents the result for one query. The results is stored as a `networkx` graph which can be explored:"
   ]
  },
  {
   "cell_type": "code",
   "execution_count": 7,
   "metadata": {
    "collapsed": false
   },
   "outputs": [],
   "source": [
    "nodes = c.graph.nodes()"
   ]
  },
  {
   "cell_type": "code",
   "execution_count": 8,
   "metadata": {
    "collapsed": false
   },
   "outputs": [
    {
     "data": {
      "text/plain": [
       "{'class': 'taxon', 'freq': 68, 'group': 4, 'typ': None}"
      ]
     },
     "execution_count": 8,
     "metadata": {},
     "output_type": "execute_result"
    }
   ],
   "source": [
    "c.graph.node['Bacilli']"
   ]
  },
  {
   "cell_type": "code",
   "execution_count": 9,
   "metadata": {
    "collapsed": false,
    "scrolled": true
   },
   "outputs": [
    {
     "name": "stdout",
     "output_type": "stream",
     "text": [
      "Inhibits the growth of selected species of the genera Lactobacillus, Pedicoccus, and Leuconostoc\n",
      "This heat stable bacteriocin shows activity against species of Lactobacillus, Listeria monocytogenes, Pediococcus, Enterococcus, Leuconostoc and Lactococcus\n",
      "Inhibits the growth of several strains of the Gram- negative bacterium E.coli, but not the growth of Gram-negative Pseudomonas species\n",
      "cremoris strain MC1363 and L.curvatus strain ATCC 51436\n",
      "Homohexamer\n",
      "B17 inhibits type II topoisomerase by trapping an enzyme - DNA cleavable complex\n",
      "Belongs to the type A lantibiotic family\n",
      "Might be part of an ABC transporter complex\n",
      "Bacteriocin active against Listeria monocytogenes, Pediococcus, Enterococcus, Lactobacilli and Bacilli\n",
      "Kills Lactococci\n",
      "Cell membrane \n",
      "Bacteriocin active against Listeria monocytogenes\n",
      "Has antibacterial activity against the Gram-positive bacterium L.monocytogenes\n",
      "By UV irradiation\n",
      "Secreted \n",
      "Inhibits a wide spectrum of lactic acid bacteria\n",
      "Also binds with high specificity to tRNAs\n",
      "Transcription is highly induced by oxygen limitation and is under dual and independent control of Spo0A-AbrB and ResDE\n",
      "Does not inhibit the growth of several strains of Gram-negative bacteria\n",
      "In stationary phase of anaerobic cultures\n",
      "Lysis proteins are required for both colicin release and partial cell lysis\n",
      "In purified form, the activity is bacteriostatic (IC(50)=2 nM) rather than bactericidal\n",
      "May function as an ionophore\n",
      "Inhibits the growth of several Gram-positive bacteria, especially the food-borne pathogen L.monocytogenes, but has no effect on the growth of a number of yeasts and Gram-negative bacteria\n",
      "Bacteriocin active against the Gram-negative bacteria C.jejuni, Y.enterocolitica and Y.pseudotuberculosis, and the Gram- positive bacteria S.aureus, S.epidermidis, L.monocytogenes and Listeria spp\n",
      "Bacteriocin active against Gram-positive bacteria\n",
      "Active plantaricin A is composed of an alpha chain and a beta chain\n",
      "Bacteriocin activity requires interaction of alpha and beta peptides in a molar ratio of 7:1 or 8:1 respectively\n",
      "Protease that exhibits activity toward chymotrypsin and trypsin substrates\n",
      "Inactivated by proteinase K, but insensitive to trypsin, alpha-chymotrypsin, pepsin and papain\n",
      "Host cell membrane \n",
      "Might be responsible for the translocation of bacteriocin SkfA across the membrane\n",
      "Colicins are polypeptide toxins produced by, and active against E.coli and closely related bacteria\n",
      "Bacteriocin active against S.aureus, S.typhi, B.thuringiensis, Klebsiella sp., E.coli KL16 and E.coli Gj137\n",
      "Monomer\n",
      "Bacteriocin that inhibits the growth of wide range of Gram-positive bacterial species\n",
      "Highly active against Gram-positive bacteria M.flavus strain ATCC 400, M.luteus strain CECT241, C.soprogenes strain NCTC533, L.monocytogenes strain ATCC 19111, L.inocua strain ATCC BAA-680D and S.carnosus strain LMG13564\n",
      "Lacks antibacterial activity against the Gram- positive bacteria L.brevis, L.sakei, L.lactis, P.acidilactici, B.subtilis, B.cereus, L.monocytogenes and S.aureus, and against the Gram-negative bacteria E.coli and S.typhimurium\n",
      "Involved in the production of the bacteriocin subtilosin\n",
      ";\n",
      "Not active against Gram-negative bacterium S.enteritidis strain ATCC 13076\n",
      "Heat stable bacteriocin active against Enterococcus faecalis and other Lactobacilli\n",
      "Bacteriocin with antibacterial activity against the Gram-positive Listeria, Enterococcus, Propionibacterium, Staphylococcus and some strains of Clostridium, Lactobacillus and Pediococcus\n",
      "Name=[4Fe-4S] cluster; Xref=ChEBI:CHEBI:49883;   Evidence=; Note=Binds 1 [4Fe-4S] cluster\n",
      "Belongs to the bacteriocin class V family\n",
      "Bacteriocin with antibacterial activity against C.jejuni\n",
      "Bacteriocin with a narrow antibacterial spectrum\n",
      "Active lactobin is composed of two different peptides, one which is lactobin A\n",
      "Belongs to the peptidase U56 family\n",
      "This heat stable bacteriocin inhibits the growth of closely related Lactobacillus species\n",
      "It may act as a pore- forming protein, creating a channel in the cell membrane through a \"barrel stave\" mechanism\n",
      "Belongs to the peptidase M16 family\n",
      "Bacteriocin that inhibits the growth of closely related Enterococcus species and a wide range of Gram-positive bacterial species\n",
      "Antibacterial activity against the Gram-positive bacterium M.lysodeikticus\n",
      "Required for production of the bacteriocin subtilosin\n",
      "Bactericidal activity (effective inhibitor of L.monocytogenes)\n",
      "The cluster is coordinated with 3 cysteines and an exchangeable S-adenosyl-L-methionine\n",
      "Contains 1 ABC transporter domain\n",
      "Lacks antibacterial activity against Gram-negative bacteria\n",
      "Has bacteriocidal activity against some Gram-positive bacteria such as Listeria, some species of Bacillus and E.faecium\n",
      "Cyclopeptide antibiotic with bacteriolytic activity against most streptococci (except S.rattus and S.mutans), Listeria spp., enterococci and staphylococci\n",
      "It kills Lactobacillus helveticus ATCC 15009, but displays no activity towards Listeria species\n",
      "Involved in the regulation of the bacteriocin carotovoricin\n",
      "Has antibacterial activity against Listeria and Enterococcus\n",
      "Less active against B.cereus strain LMG13569, C.thiaminolyticum strain ATCC 15579, E.faecalis strain NCTC8176, L.lactis strain LM0230, L.casei strain ATCC 344, L.lactis strain IL1403, L.jensenii strain ATCC 25258, L.plantarum strain CECT220, L.brevis strain ATCC 8287, L.bulgaricus strain LMG13551, P.acidilactici strain ATCC 25740, P.pentosaceus strain ATCC 33316 and P.pentosaceus strain LMG13560\n",
      "Belongs to the ABC transporter superfamily\n",
      "Associated with a 180 kDa bacteriocin complex\n",
      "Repressed by AbrB during normal growth when nutrients are plentiful, in association with the transcriptional repressor Abh\n",
      "Inhibits B.cereus spore outgrowth, after the germination stage, approximately 1000-fold better than it inhibits exponential growth of the same cells\n",
      "It may act as a pore- forming protein, creating a channel in the cell membrane\n",
      "Has bactericidal activity against Gram-positive bacteria M.luteus, methicillin-resistant S.aureus, methicillin-sensitive S.aureus and B.stearothermophilus as well as against the Gram- negative bacteria E.coli and S.typhi\n",
      "It may act as a pore-forming protein, creating a channel in the cell membrane\n",
      "Required for immunity to subtilosin\n",
      "May activate a metalloenzyme that catalyzes a modification of prosubtilosin\n",
      "Bacteriocin active against the Gram-negative bacteria S.enteritidis, S.choleraesuis, S.typhimurium, S.gallinarum, E.coli O157:H7, Y.enterocolitica, C.freundii, K.pneumoniae, S.dysentriae, P.aeruginosa, P.mirabilis, M.morganii, C.jejuni and 20 other Campylobacter isolates, and the Gram-positive bacteria S.aureus, S.epidermidis and L.monocytogenes\n",
      "When added to the drinking water of chickens, causes a decrease in the levels of C.jejuni and S.enteritidis in the ceca, and in the levels of S.enteritidis in the liver and spleen\n",
      "Bacteriocin active against Listeria monocytogenes and Lactococcus cremoris\n",
      "May have a role in bacteriocin secretion or immunity\n",
      "The bactericidal activity of lantibiotics is based on depolarization of energized bacterial cytoplasmic membranes, initiated by the formation of aqueous transmembrane pores\n",
      "Name=Zn(2+); Xref=ChEBI:CHEBI:29105; Evidence=; Note=Divalent metal cations\n",
      "Major component of a prophage tail tube\n",
      "Kills Lactococci by dissipating the membrane potential of the cells\n",
      "By Spo0A and PhoP, during nutrient starvation, especially phosphate starvation\n",
      "Inhibits B.subtilis strain ATCC 6633\n",
      "Colicin V kills sensitive cells by disrupting the membrane potential\n",
      "Major component of a prophage tail sheath\n",
      "Bacteriocin, active against the Gram-positive bacteria L.monocytogenes, B.subtilis and other Bacillus, E.cloacae, L.acidophilus, L.lactis, P.acidilactici, S.thermophilus, and several Gram-negative bacteria including S.cholerae, S.flexneri and P.aeruginosa\n",
      "Has a bactericidal effect on sensitive cells but not a bacteriolytic effect\n",
      "Belongs to the bacteriocin class IIB family\n",
      "Heat-stable antibiotic with bacteriolytic activity against Listeria spp., E.hirae, E.faecalis ATCC 19433, S.bovis 83, S.uberis 42 and L.lactis\n",
      "Note=Extracellular region\n",
      "Secreted\n",
      "Homomultimeric\n",
      "RNA chaperone that binds small regulatory RNA (sRNAs) and mRNAs to facilitate mRNA translational regulation in response to envelope stress, environmental stress and changes in metabolite concentrations\n",
      "Antibacterial peptide active against a broad range of lactic acid bacteria, L.monocytogenes and many epidemiologically unrelated strains of S.aureus involved in bovine mastitis\n",
      "Bacteriocin with antibacterial activity against many strains of L.monocytogenes, L.seeligeri, L.welshimeri, L.grayi, L.murayi, L.ivanovii, L.innocus, C.divergens and C.piscocola\n",
      "No antibacterial activity was detected against L.lactis, P.acidilactici, P.pentosaceus, L.salivarius, L.delbruekii, L.acidophilus, L.plantarum, L.casei, L.rhamnosus, S.thermophilus, P.freudenreichii, B.breve and E.coli\n",
      "Could catalyze some step in the processing of presubtilosin\n",
      "Note=Partly adsorbed to cell wall\n",
      "Antibacterial activity against Gram-negative bacterium E.amylovora\n",
      "Lanthionine-containing peptide antibiotic (lantibiotic) active on Gram-positive bacteria, such as Lactobacillus sakei, Leuconostoc mesenteroides and Pediococcus pentosaceus\n",
      "Belongs to the bacteriocin class IIA/YGNGV family\n",
      "Antibacterial activity against the Gram-positive bacteria L.plantarun, L.pentosus, L.curvatus, L.lindneri, L.mesenteroides and E.faecilis\n",
      "This bacteriocin inhibits the growth of several Gram- positive bacteria, especially pathogenic L.monocytogenes and C.botulinum but has no effect on the growth of a number of yeasts and Gram-negative bacteria\n",
      "Antibacterial activity against several lactic acid bacteria, Listeria, Streptococci, etc\n",
      "Weakly active against L.mesenteroides strain ATCC 19254, L.lactis strain ATCC 1454, L.sakei strain CECT906T, L.lactis subsp\n",
      "May have antibacterial activity\n",
      "Bactericidal activity\n",
      "This glycine-rich peptide antibiotic inhibits DNA replication in many enteric bacteria, that leads to induction of the SOS repair system, massive DNA degradation and cell death\n",
      "Has antimicrobial activity\n",
      "Binds Zn(2+)\n",
      "Narrow spectrum bacteriocin, active against closely related bacterial species\n",
      "Required for maximal production and for optimal immunity to subtilosin\n",
      "Bactericidal activity; inhibits closely related Lactobacilli, Listeria monocytogenes and ivanovvi, Enterococcus faecalis, Carnobacterium sp and Brocothrix thermosphacta\n",
      "Belongs to the Hfq family\n",
      "Secreted, extracellular space \n",
      "Cell outer membrane \n",
      "Has antibacterial activity against L.plantarum ATCC 8014\n",
      "Note=Through the specific ABC transporter NukT\n",
      "Has antibacterial activity\n",
      "Note=Targeted by SRP to the Sec translocon\n",
      "Activated by calcium and cobalt\n",
      "Note=Secreted by the CvaAB/TolC export system\n",
      "This heat-sensitive bacteriocin inhibits the growth of closely related Lactobacillus species\n",
      "Active against L.monocytogenes and several lactic acid bacteria\n",
      "This bacteriocin depends upon the complementation of two peptides for activity: LafA and LafX\n",
      "The mode of action appears to be non-lytic\n"
     ]
    }
   ],
   "source": [
    "for node in nodes:\n",
    "    if c.graph.node[node]['class'] == 'comment':\n",
    "        print(node)"
   ]
  },
  {
   "cell_type": "markdown",
   "metadata": {},
   "source": [
    "Importing `networkx` provides even more ways to analyze:"
   ]
  },
  {
   "cell_type": "code",
   "execution_count": 10,
   "metadata": {
    "collapsed": true
   },
   "outputs": [],
   "source": [
    "import networkx as nx"
   ]
  },
  {
   "cell_type": "code",
   "execution_count": 11,
   "metadata": {
    "collapsed": false
   },
   "outputs": [
    {
     "name": "stdout",
     "output_type": "stream",
     "text": [
      "GO:0019835\n",
      "GO:0042742\n",
      "GO:0008156\n"
     ]
    }
   ],
   "source": [
    "for n in nx.all_neighbors(c.graph, 'P05834'):\n",
    "    if c.graph.node[n]['class'] == 'xref':\n",
    "        print(n)"
   ]
  }
 ],
 "metadata": {
  "kernelspec": {
   "display_name": "Python 3",
   "language": "python",
   "name": "python3"
  },
  "language_info": {
   "codemirror_mode": {
    "name": "ipython",
    "version": 3
   },
   "file_extension": ".py",
   "mimetype": "text/x-python",
   "name": "python",
   "nbconvert_exporter": "python",
   "pygments_lexer": "ipython3",
   "version": "3.4.3"
  }
 },
 "nbformat": 4,
 "nbformat_minor": 0
}
